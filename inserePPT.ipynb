{
 "cells": [
  {
   "cell_type": "markdown",
   "metadata": {},
   "source": [
    "# Coletando daos IBGE, Armazenando no BigQuery e Preenchendo PPT\n",
    "\n",
    "**Vamos divir o processo em duas etapas para facilidar a Didatica**\n",
    "- Primeira Etapa: Coleta de dados do IBGE e Armazenamento no BigQuery\n",
    "- Segunda Etapa: Consumo dos dados do BigQuery e Prenchimento do PPT\n"
   ]
  },
  {
   "cell_type": "markdown",
   "metadata": {},
   "source": [
    "### Segunda Etapa: Consumo dos dados do BigQuery e Prenchimento do PPT\n",
    "Nesta etapa vamos consultar os dados armazenados no BigQuery e preencher o PPT. \n",
    "\n",
    "**Importa Libs**"
   ]
  },
  {
   "cell_type": "code",
   "execution_count": 12,
   "metadata": {},
   "outputs": [],
   "source": [
    "from google.cloud import bigquery\n",
    "from google.oauth2 import service_account\n",
    "import pandas_gbq\n",
    "from pptx import Presentation\n",
    "from pptx.chart.data import CategoryChartData\n",
    "#import pandas as pd\n"
   ]
  },
  {
   "cell_type": "markdown",
   "metadata": {},
   "source": [
    "#### Abrindo PPT"
   ]
  },
  {
   "cell_type": "code",
   "execution_count": 13,
   "metadata": {},
   "outputs": [],
   "source": [
    "pres = Presentation(\"arqs/pessoasMunicipio.pptx\")"
   ]
  },
  {
   "cell_type": "markdown",
   "metadata": {},
   "source": [
    "#### Seleciona Slide a ser alterado"
   ]
  },
  {
   "cell_type": "code",
   "execution_count": 14,
   "metadata": {},
   "outputs": [],
   "source": [
    "slides = [slide for slide in pres.slides] \n",
    "slide2 = slides[1]"
   ]
  },
  {
   "cell_type": "code",
   "execution_count": 15,
   "metadata": {},
   "outputs": [],
   "source": [
    "uf = 'SP' \n",
    "titulo_grafico = [objeto for objeto in slide2.shapes if objeto.has_text_frame]\n",
    "titulo_grafico[0].text = str(titulo_grafico[0].text).format(uf = uf)"
   ]
  },
  {
   "cell_type": "markdown",
   "metadata": {},
   "source": [
    "### Autenticando no Google Cloud\n",
    "**Neste ponto iremos utilizar a chave de serviço do GCP**\n",
    "\n",
    "**Obs:** Caso não saiba gerar a chave pode utilizar o link a seguir:\n",
    "- https://medium.com/@alexandretavares.bigdata/criando-uma-conta-de-servi%C3%A7o-no-gcp-eeac59f3cbcb"
   ]
  },
  {
   "cell_type": "code",
   "execution_count": 16,
   "metadata": {},
   "outputs": [],
   "source": [
    "# Informe aqui o caminho onde a chave estará armazenada\n",
    "# Recomendamos que guarde esta chave em um cofre digital para maior segurança\n",
    "pathCredencial = \"key/dswdemo.json\" \n",
    "\n",
    "credentials = service_account.Credentials.from_service_account_file(\n",
    "    pathCredencial,\n",
    "    scopes=[\"https://www.googleapis.com/auth/cloud-platform\"],\n",
    ")"
   ]
  },
  {
   "cell_type": "markdown",
   "metadata": {},
   "source": [
    "#### Busca dados do Municipio informado no BigQuery"
   ]
  },
  {
   "cell_type": "code",
   "execution_count": 18,
   "metadata": {},
   "outputs": [
    {
     "name": "stderr",
     "output_type": "stream",
     "text": [
      "Downloading: 100%|██████████| 645/645 [00:00<00:00, 1889.65rows/s]\n"
     ]
    },
    {
     "data": {
      "text/html": [
       "<div>\n",
       "<style scoped>\n",
       "    .dataframe tbody tr th:only-of-type {\n",
       "        vertical-align: middle;\n",
       "    }\n",
       "\n",
       "    .dataframe tbody tr th {\n",
       "        vertical-align: top;\n",
       "    }\n",
       "\n",
       "    .dataframe thead th {\n",
       "        text-align: right;\n",
       "    }\n",
       "</style>\n",
       "<table border=\"1\" class=\"dataframe\">\n",
       "  <thead>\n",
       "    <tr style=\"text-align: right;\">\n",
       "      <th></th>\n",
       "      <th>municipio</th>\n",
       "      <th>ano_2019</th>\n",
       "      <th>ano_2020</th>\n",
       "      <th>ano_2021</th>\n",
       "    </tr>\n",
       "  </thead>\n",
       "  <tbody>\n",
       "    <tr>\n",
       "      <th>0</th>\n",
       "      <td>Adamantina</td>\n",
       "      <td>35068</td>\n",
       "      <td>35111</td>\n",
       "      <td>35153</td>\n",
       "    </tr>\n",
       "    <tr>\n",
       "      <th>1</th>\n",
       "      <td>Adolfo</td>\n",
       "      <td>3562</td>\n",
       "      <td>3554</td>\n",
       "      <td>3545</td>\n",
       "    </tr>\n",
       "    <tr>\n",
       "      <th>2</th>\n",
       "      <td>Aguaí</td>\n",
       "      <td>36305</td>\n",
       "      <td>36648</td>\n",
       "      <td>36981</td>\n",
       "    </tr>\n",
       "    <tr>\n",
       "      <th>3</th>\n",
       "      <td>Agudos</td>\n",
       "      <td>37214</td>\n",
       "      <td>37401</td>\n",
       "      <td>37582</td>\n",
       "    </tr>\n",
       "    <tr>\n",
       "      <th>4</th>\n",
       "      <td>Alambari</td>\n",
       "      <td>6025</td>\n",
       "      <td>6129</td>\n",
       "      <td>6231</td>\n",
       "    </tr>\n",
       "    <tr>\n",
       "      <th>...</th>\n",
       "      <td>...</td>\n",
       "      <td>...</td>\n",
       "      <td>...</td>\n",
       "      <td>...</td>\n",
       "    </tr>\n",
       "    <tr>\n",
       "      <th>640</th>\n",
       "      <td>Águas de São Pedro</td>\n",
       "      <td>3451</td>\n",
       "      <td>3521</td>\n",
       "      <td>3588</td>\n",
       "    </tr>\n",
       "    <tr>\n",
       "      <th>641</th>\n",
       "      <td>Álvares Florence</td>\n",
       "      <td>3679</td>\n",
       "      <td>3647</td>\n",
       "      <td>3616</td>\n",
       "    </tr>\n",
       "    <tr>\n",
       "      <th>642</th>\n",
       "      <td>Álvares Machado</td>\n",
       "      <td>24915</td>\n",
       "      <td>24998</td>\n",
       "      <td>25078</td>\n",
       "    </tr>\n",
       "    <tr>\n",
       "      <th>643</th>\n",
       "      <td>Álvaro de Carvalho</td>\n",
       "      <td>5227</td>\n",
       "      <td>5274</td>\n",
       "      <td>5320</td>\n",
       "    </tr>\n",
       "    <tr>\n",
       "      <th>644</th>\n",
       "      <td>Óleo</td>\n",
       "      <td>2496</td>\n",
       "      <td>2471</td>\n",
       "      <td>2447</td>\n",
       "    </tr>\n",
       "  </tbody>\n",
       "</table>\n",
       "<p>645 rows × 4 columns</p>\n",
       "</div>"
      ],
      "text/plain": [
       "              municipio  ano_2019  ano_2020  ano_2021\n",
       "0            Adamantina     35068     35111     35153\n",
       "1                Adolfo      3562      3554      3545\n",
       "2                 Aguaí     36305     36648     36981\n",
       "3                Agudos     37214     37401     37582\n",
       "4              Alambari      6025      6129      6231\n",
       "..                  ...       ...       ...       ...\n",
       "640  Águas de São Pedro      3451      3521      3588\n",
       "641    Álvares Florence      3679      3647      3616\n",
       "642     Álvares Machado     24915     24998     25078\n",
       "643  Álvaro de Carvalho      5227      5274      5320\n",
       "644                Óleo      2496      2471      2447\n",
       "\n",
       "[645 rows x 4 columns]"
      ]
     },
     "execution_count": 18,
     "metadata": {},
     "output_type": "execute_result"
    }
   ],
   "source": [
    "QUERY = ( f'''\n",
    "              DECLARE anos STRING;\n",
    "              SET anos = (\n",
    "                SELECT \n",
    "                  CONCAT('(\"', STRING_AGG(DISTINCT ano, '\", \"'), '\")'),\n",
    "                FROM `raw.tb_nat_populacao_municipio`\n",
    "              );\n",
    "              EXECUTE IMMEDIATE format(\"\"\"\n",
    "                SELECT * FROM\n",
    "                (\n",
    "                  SELECT \n",
    "                    municipio,\n",
    "                    ano,\n",
    "                    valor\n",
    "                  FROM `raw.tb_nat_populacao_municipio`\n",
    "                  where uf = \"{uf}\"\n",
    "                )\n",
    "                PIVOT\n",
    "                (\n",
    "                  sum(valor) as ano\n",
    "                  FOR ano in %s\n",
    "                )\n",
    "                ORDER BY municipio ASC\n",
    "              \"\"\", anos)\n",
    "          '''\n",
    "    )\n",
    "df = pandas_gbq.read_gbq(QUERY, credentials=credentials)\n",
    "df\n"
   ]
  },
  {
   "cell_type": "markdown",
   "metadata": {},
   "source": [
    "#### Preenche grafico do Slide 2 com dados do BigQuery"
   ]
  },
  {
   "cell_type": "code",
   "execution_count": 19,
   "metadata": {},
   "outputs": [],
   "source": [
    "slide2_charts = [shape for shape in slide2.shapes if shape.has_chart]\n",
    "bar_chart = [shape.chart for shape in slide2_charts ]\n",
    "chart_data  = CategoryChartData()\n",
    "\n",
    "colunas = [x for x in df.columns]\n",
    "colunas.pop(0)\n",
    "\n",
    "chart_data.categories = [str(x) for x in df['municipio']]\n",
    "for x in colunas:\n",
    "    chart_data.add_series(x.split('_')[1], [qtdPessoas for qtdPessoas in df[x]])\n",
    "bar_chart[0].replace_data(chart_data)\n",
    "bar_chart[0].chart_title.text_frame.text = \"População por Municipio\"\n",
    "\n",
    "\n"
   ]
  },
  {
   "cell_type": "markdown",
   "metadata": {},
   "source": [
    "#### Preenche Titulo do Slide 3"
   ]
  },
  {
   "cell_type": "code",
   "execution_count": 20,
   "metadata": {},
   "outputs": [],
   "source": [
    "slide3 = slides[2]\n",
    "titulo_grafico = [objeto for objeto in slide3.shapes if objeto.has_text_frame]\n",
    "titulo_grafico[0].text = str(titulo_grafico[0].text).format(uf = uf)"
   ]
  },
  {
   "cell_type": "markdown",
   "metadata": {},
   "source": [
    "#### Consulta dados do Estado no BigQuery"
   ]
  },
  {
   "cell_type": "code",
   "execution_count": 21,
   "metadata": {},
   "outputs": [
    {
     "name": "stderr",
     "output_type": "stream",
     "text": [
      "Downloading: 100%|██████████| 1/1 [00:00<00:00,  2.97rows/s]\n"
     ]
    },
    {
     "data": {
      "text/html": [
       "<div>\n",
       "<style scoped>\n",
       "    .dataframe tbody tr th:only-of-type {\n",
       "        vertical-align: middle;\n",
       "    }\n",
       "\n",
       "    .dataframe tbody tr th {\n",
       "        vertical-align: top;\n",
       "    }\n",
       "\n",
       "    .dataframe thead th {\n",
       "        text-align: right;\n",
       "    }\n",
       "</style>\n",
       "<table border=\"1\" class=\"dataframe\">\n",
       "  <thead>\n",
       "    <tr style=\"text-align: right;\">\n",
       "      <th></th>\n",
       "      <th>uf</th>\n",
       "      <th>pessoas_2019</th>\n",
       "      <th>pessoas_2020</th>\n",
       "      <th>pessoas_2021</th>\n",
       "    </tr>\n",
       "  </thead>\n",
       "  <tbody>\n",
       "    <tr>\n",
       "      <th>0</th>\n",
       "      <td>SP</td>\n",
       "      <td>45919049</td>\n",
       "      <td>46289333</td>\n",
       "      <td>46649132</td>\n",
       "    </tr>\n",
       "  </tbody>\n",
       "</table>\n",
       "</div>"
      ],
      "text/plain": [
       "   uf  pessoas_2019  pessoas_2020  pessoas_2021\n",
       "0  SP      45919049      46289333      46649132"
      ]
     },
     "execution_count": 21,
     "metadata": {},
     "output_type": "execute_result"
    }
   ],
   "source": [
    "QUERY2 = ( f'''\n",
    "DECLARE anos STRING;\n",
    "SET anos = (\n",
    "  SELECT \n",
    "    CONCAT('(\"', STRING_AGG(DISTINCT ano, '\", \"'), '\")'),\n",
    "  FROM `raw.tb_nat_populacao_uf`\n",
    ");\n",
    "EXECUTE IMMEDIATE format(\"\"\"\n",
    "SELECT * FROM\n",
    "(\n",
    "  SELECT \n",
    "    uf,\n",
    "    ano,\n",
    "    valor\n",
    "  FROM `raw.tb_nat_populacao_uf`\n",
    "  where uf = \"{uf}\"\n",
    ")\n",
    "PIVOT\n",
    "(\n",
    "  sum(valor) AS pessoas\n",
    "  FOR ano in %s\n",
    ")\n",
    "ORDER BY uf ASC\n",
    "\"\"\", anos)\n",
    "          '''\n",
    "    )\n",
    "df = pandas_gbq.read_gbq(QUERY2, credentials=credentials)\n",
    "df\n"
   ]
  },
  {
   "cell_type": "markdown",
   "metadata": {},
   "source": [
    "#### Preenche Grafico do Slide 2 com dados do Estado Selecionado"
   ]
  },
  {
   "cell_type": "code",
   "execution_count": 22,
   "metadata": {},
   "outputs": [],
   "source": [
    "slide3_charts = [shape for shape in slide3.shapes if shape.has_chart]\n",
    "bar_chart2 = [shape.chart for shape in slide3_charts ]\n",
    "chart_data2  = CategoryChartData()\n",
    "\n",
    "colunas = [x for x in df.columns]\n",
    "colunas.pop(0)\n",
    "chart_data2.categories = [str(x) for x in df['uf']]\n",
    "for x in colunas:\n",
    "    chart_data2.add_series(x.split('_')[1], [qtdPessoas for qtdPessoas in df[x]])\n",
    "bar_chart2[0].replace_data(chart_data2)\n",
    "bar_chart2[0].chart_title.text_frame.text = \"População por Estado\"\n"
   ]
  },
  {
   "cell_type": "markdown",
   "metadata": {},
   "source": [
    "#### Salva PPT"
   ]
  },
  {
   "cell_type": "code",
   "execution_count": 23,
   "metadata": {},
   "outputs": [],
   "source": [
    "\n",
    "pres.save('arqs/pessoasMinicipios_Preenchido.pptx')"
   ]
  },
  {
   "cell_type": "code",
   "execution_count": null,
   "metadata": {},
   "outputs": [],
   "source": []
  }
 ],
 "metadata": {
  "kernelspec": {
   "display_name": "Python 3.10.4 64-bit",
   "language": "python",
   "name": "python3"
  },
  "language_info": {
   "codemirror_mode": {
    "name": "ipython",
    "version": 3
   },
   "file_extension": ".py",
   "mimetype": "text/x-python",
   "name": "python",
   "nbconvert_exporter": "python",
   "pygments_lexer": "ipython3",
   "version": "3.10.4"
  },
  "orig_nbformat": 4,
  "vscode": {
   "interpreter": {
    "hash": "5f8436ca69605a966ff79010098809a12c5976760e976a925ddbd71d745a4499"
   }
  }
 },
 "nbformat": 4,
 "nbformat_minor": 2
}
